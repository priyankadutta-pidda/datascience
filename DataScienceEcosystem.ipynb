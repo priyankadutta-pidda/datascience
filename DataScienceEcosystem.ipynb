{
 "cells": [
  {
   "cell_type": "markdown",
   "id": "8243333b-ffd4-4f70-86fc-e79db42ff7de",
   "metadata": {
    "tags": []
   },
   "source": [
    "# Data Science Tools and Ecosystem"
   ]
  },
  {
   "cell_type": "markdown",
   "id": "97d924f0-fe03-4159-85b3-16e1a8e9ed83",
   "metadata": {
    "tags": []
   },
   "source": [
    "## In this notebook, Data Science Tools and Ecosystem are summarized."
   ]
  },
  {
   "cell_type": "markdown",
   "id": "9de1ab2c-7950-40b7-8c92-4fbe14f6c407",
   "metadata": {
    "tags": []
   },
   "source": [
    "**Objectives:**\n",
    "- List of popular languages in Data Science - Python, Java, Scala, R, C++.\n",
    "- Libraries of Data Science - Matplotlib, Pandas, Numpy, Scipy, Scikit-learn library.\n",
    "- Popular APIs - REST, TensorFlow.\n",
    "- Data Sets"
   ]
  },
  {
   "cell_type": "markdown",
   "id": "a4c81bed-c9be-4790-a9c7-30fd8c20f38e",
   "metadata": {
    "tags": []
   },
   "source": [
    "## Some of the popular languages that Data Scientists use are: \n",
    "1. Python \n",
    "2. SQL \n",
    "3. R\n",
    "4. Java\n",
    "\n",
    "                                                                "
   ]
  },
  {
   "cell_type": "markdown",
   "id": "95cac4ab-8683-4f2d-86dc-a66face5facc",
   "metadata": {
    "tags": []
   },
   "source": [
    "## Some of the commonly used libraries used by Data Scientists include:\n",
    "- NumPy\n",
    "- Pandas\n",
    "- SciPy"
   ]
  },
  {
   "cell_type": "markdown",
   "id": "bbf4c119-fba5-46fc-add2-98234a9bfa2e",
   "metadata": {
    "tags": []
   },
   "source": [
    "|Data Science Tools|\n",
    "|-----|\n",
    "|Jupyter Notebook|\n",
    "|R and RStudio|\n",
    "|Git and GitHub|"
   ]
  },
  {
   "cell_type": "markdown",
   "id": "7da6dc24-034b-4226-9e15-c602f87ba5ac",
   "metadata": {
    "tags": []
   },
   "source": [
    "### Below are a few examples of evaluating arithmetic expressions in Python"
   ]
  },
  {
   "cell_type": "markdown",
   "id": "c84bf911-8e44-44ea-be3a-ed691ef112a4",
   "metadata": {
    "tags": []
   },
   "source": [
    "This a simple arithmetic expression to mutiply then add integers"
   ]
  },
  {
   "cell_type": "code",
   "execution_count": 19,
   "id": "74f8b4f7-9d32-4567-b61e-906391e084ea",
   "metadata": {
    "tags": []
   },
   "outputs": [
    {
     "data": {
      "text/plain": [
       "17"
      ]
     },
     "execution_count": 19,
     "metadata": {},
     "output_type": "execute_result"
    }
   ],
   "source": [
    "(3*4)+5"
   ]
  },
  {
   "cell_type": "markdown",
   "id": "82ae6124-73f7-481d-be97-b4c620d28f55",
   "metadata": {},
   "source": [
    "This will convert 200 minutes to hours by diving by 60"
   ]
  },
  {
   "cell_type": "code",
   "execution_count": 20,
   "id": "1bfdfd49-8d76-4fdf-8242-ed06c8171552",
   "metadata": {
    "tags": []
   },
   "outputs": [
    {
     "data": {
      "text/plain": [
       "3.3333333333333335"
      ]
     },
     "execution_count": 20,
     "metadata": {},
     "output_type": "execute_result"
    }
   ],
   "source": [
    "200/60"
   ]
  },
  {
   "cell_type": "markdown",
   "id": "bdb3f6cf-c843-4c7a-9330-69028b57e256",
   "metadata": {},
   "source": [
    "## Author\n",
    "Priyanka Dutta"
   ]
  },
  {
   "cell_type": "markdown",
   "id": "c9ecb6c0-22bf-41ab-915b-1ff0c85ca469",
   "metadata": {},
   "source": []
  }
 ],
 "metadata": {
  "kernelspec": {
   "display_name": "Python",
   "language": "python",
   "name": "conda-env-python-py"
  },
  "language_info": {
   "codemirror_mode": {
    "name": "ipython",
    "version": 3
   },
   "file_extension": ".py",
   "mimetype": "text/x-python",
   "name": "python",
   "nbconvert_exporter": "python",
   "pygments_lexer": "ipython3",
   "version": "3.7.12"
  }
 },
 "nbformat": 4,
 "nbformat_minor": 5
}
